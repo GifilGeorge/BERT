{
  "nbformat": 4,
  "nbformat_minor": 0,
  "metadata": {
    "kernelspec": {
      "display_name": "Python 3",
      "language": "python",
      "name": "python3"
    },
    "language_info": {
      "codemirror_mode": {
        "name": "ipython",
        "version": 3
      },
      "file_extension": ".py",
      "mimetype": "text/x-python",
      "name": "python",
      "nbconvert_exporter": "python",
      "pygments_lexer": "ipython3",
      "version": "3.7.7"
    },
    "colab": {
      "name": "Prediction_Farsi_TextPreProcessing_BERT.ipynb",
      "provenance": [],
      "toc_visible": true,
      "include_colab_link": true
    }
  },
  "cells": [
    {
      "cell_type": "markdown",
      "metadata": {
        "id": "view-in-github",
        "colab_type": "text"
      },
      "source": [
        "<a href=\"https://colab.research.google.com/github/GifilGeorge/BERT/blob/master/Prediction_Farsi_TextPreProcessing_BERT.ipynb\" target=\"_parent\"><img src=\"https://colab.research.google.com/assets/colab-badge.svg\" alt=\"Open In Colab\"/></a>"
      ]
    },
    {
      "cell_type": "markdown",
      "metadata": {
        "id": "JHSxVKcvP3dy",
        "colab_type": "text"
      },
      "source": [
        "### Libraries"
      ]
    },
    {
      "cell_type": "code",
      "metadata": {
        "id": "K8qFL0osQOCZ",
        "colab_type": "code",
        "colab": {}
      },
      "source": [
        "from google.colab import drive\n",
        "drive.mount('/content/drive')"
      ],
      "execution_count": null,
      "outputs": []
    },
    {
      "cell_type": "code",
      "metadata": {
        "id": "4ZL06XuoP3d3",
        "colab_type": "code",
        "colab": {}
      },
      "source": [
        "import transformers\n",
        "from transformers import BertModel, BertTokenizer, AdamW, get_linear_schedule_with_warmup\n",
        "import torch\n",
        "import numpy as np\n",
        "import pandas as pd\n",
        "import seaborn as sns\n",
        "from pylab import rcParams\n",
        "import matplotlib.pyplot as plt\n",
        "from matplotlib import rc\n",
        "from sklearn.model_selection import train_test_split\n",
        "from sklearn.metrics import confusion_matrix, classification_report\n",
        "from collections import defaultdict\n",
        "from textwrap import wrap\n",
        "from torch import nn, optim\n",
        "from torch.utils.data import Dataset, DataLoader\n",
        "\n",
        "%matplotlib inline\n",
        "%config InlineBackend.figure_format='retina'\n",
        "\n",
        "sns.set(style='whitegrid', palette='muted', font_scale=1.2)\n",
        "HAPPY_COLORS_PALETTE = [\"#01BEFE\", \"#FFDD00\", \"#FF7D00\", \"#FF006D\", \"#ADFF02\", \"#8F00FF\"]\n",
        "sns.set_palette(sns.color_palette(HAPPY_COLORS_PALETTE))\n",
        "rcParams['figure.figsize'] = 12, 8\n",
        "\n",
        "RANDOM_SEED = 42\n",
        "\n",
        "np.random.seed(RANDOM_SEED)\n",
        "torch.manual_seed(RANDOM_SEED)\n",
        "device = torch.device(\"cuda:0\" if torch.cuda.is_available() else \"cpu\")"
      ],
      "execution_count": null,
      "outputs": []
    },
    {
      "cell_type": "markdown",
      "metadata": {
        "id": "mnPCbQTFP3eI",
        "colab_type": "text"
      },
      "source": [
        "### Loading the dataset"
      ]
    },
    {
      "cell_type": "code",
      "metadata": {
        "id": "mRdv9tmIP3eL",
        "colab_type": "code",
        "colab": {}
      },
      "source": [
        "df = pd.read_csv(\"twitter_data.csv\")"
      ],
      "execution_count": null,
      "outputs": []
    },
    {
      "cell_type": "code",
      "metadata": {
        "id": "JVbUQSKuP3eY",
        "colab_type": "code",
        "colab": {},
        "outputId": "c2b16d4d-c194-4d2c-8a88-d954aabc7357"
      },
      "source": [
        "df.head(5)"
      ],
      "execution_count": null,
      "outputs": [
        {
          "output_type": "execute_result",
          "data": {
            "text/html": [
              "<div>\n",
              "<style scoped>\n",
              "    .dataframe tbody tr th:only-of-type {\n",
              "        vertical-align: middle;\n",
              "    }\n",
              "\n",
              "    .dataframe tbody tr th {\n",
              "        vertical-align: top;\n",
              "    }\n",
              "\n",
              "    .dataframe thead th {\n",
              "        text-align: right;\n",
              "    }\n",
              "</style>\n",
              "<table border=\"1\" class=\"dataframe\">\n",
              "  <thead>\n",
              "    <tr style=\"text-align: right;\">\n",
              "      <th></th>\n",
              "      <th>Operator_name</th>\n",
              "      <th>date</th>\n",
              "      <th>id</th>\n",
              "      <th>followers</th>\n",
              "      <th>user_name</th>\n",
              "      <th>org_name</th>\n",
              "      <th>tweets</th>\n",
              "      <th>likes</th>\n",
              "      <th>retweets</th>\n",
              "    </tr>\n",
              "  </thead>\n",
              "  <tbody>\n",
              "    <tr>\n",
              "      <th>0</th>\n",
              "      <td>RIGHTEL</td>\n",
              "      <td>2020-08-04 20:01:15</td>\n",
              "      <td>1.290740e+18</td>\n",
              "      <td>3286.0</td>\n",
              "      <td>00gorgio00</td>\n",
              "      <td>جورجیو</td>\n",
              "      <td>شاشیدم به اول تا آخر اینترنت ایرانسل. سگ رایتل...</td>\n",
              "      <td>4.0</td>\n",
              "      <td>0.0</td>\n",
              "    </tr>\n",
              "    <tr>\n",
              "      <th>1</th>\n",
              "      <td>RIGHTEL</td>\n",
              "      <td>2020-07-18 06:46:30</td>\n",
              "      <td>1.284379e+18</td>\n",
              "      <td>1572.0</td>\n",
              "      <td>01BinarySoul</td>\n",
              "      <td>Amin</td>\n",
              "      <td>@_siavasha جفتشون بالای ۵۰ رو دارن. تازه میدون...</td>\n",
              "      <td>1.0</td>\n",
              "      <td>0.0</td>\n",
              "    </tr>\n",
              "    <tr>\n",
              "      <th>2</th>\n",
              "      <td>RIGHTEL</td>\n",
              "      <td>2020-07-30 08:49:48</td>\n",
              "      <td>1.288759e+18</td>\n",
              "      <td>1583.0</td>\n",
              "      <td>01BinarySoul</td>\n",
              "      <td>Amin</td>\n",
              "      <td>@itisAli_ ۷تاش ایرانسله یا رایتل و همراه‌اول ه...</td>\n",
              "      <td>4.0</td>\n",
              "      <td>0.0</td>\n",
              "    </tr>\n",
              "    <tr>\n",
              "      <th>3</th>\n",
              "      <td>MTNI</td>\n",
              "      <td>2020-07-18 06:49:34</td>\n",
              "      <td>1.284380e+18</td>\n",
              "      <td>1572.0</td>\n",
              "      <td>01BinarySoul</td>\n",
              "      <td>Amin</td>\n",
              "      <td>@Khani @_siavasha یعنی علنا گفت بالا سر ایرانس...</td>\n",
              "      <td>1.0</td>\n",
              "      <td>0.0</td>\n",
              "    </tr>\n",
              "    <tr>\n",
              "      <th>4</th>\n",
              "      <td>MCI</td>\n",
              "      <td>2020-07-18 06:52:51</td>\n",
              "      <td>1.284381e+18</td>\n",
              "      <td>1572.0</td>\n",
              "      <td>01BinarySoul</td>\n",
              "      <td>Amin</td>\n",
              "      <td>@Khani @_siavasha حداقل تا جایی که شنیدم اکثری...</td>\n",
              "      <td>0.0</td>\n",
              "      <td>0.0</td>\n",
              "    </tr>\n",
              "  </tbody>\n",
              "</table>\n",
              "</div>"
            ],
            
          },
          "metadata": {
            "tags": []
          },
          "execution_count": 5
        }
      ]
    },
    {
      "cell_type": "code",
      "metadata": {
        "id": "JjbGC-ZgP3ek",
        "colab_type": "code",
        "colab": {},
        "outputId": "cfbd8266-a4aa-4b3f-d652-08504945aadd"
      },
      "source": [
        "df.shape"
      ],
      "execution_count": null,
      "outputs": [
        {
          "output_type": "execute_result",
          "data": {
            "text/plain": [
              "(20397, 9)"
            ]
          },
          "metadata": {
            "tags": []
          },
          "execution_count": 6
        }
      ]
    },
    {
      "cell_type": "code",
      "metadata": {
        "id": "f9YtwqMXP3ex",
        "colab_type": "code",
        "colab": {}
      },
      "source": [
        "df['tweets'] = df['tweets'].astype(str)"
      ],
      "execution_count": null,
      "outputs": []
    },
    {
      "cell_type": "code",
      "metadata": {
        "id": "0RL_Y7HlP3fF",
        "colab_type": "code",
        "colab": {},
        "outputId": "c3b1cee5-b9bf-41c3-d905-4428ba7b6a85"
      },
      "source": [
        "df.info()"
      ],
      "execution_count": null,
      "outputs": [
        {
          "output_type": "stream",
          "text": [
            "<class 'pandas.core.frame.DataFrame'>\n",
            "RangeIndex: 20397 entries, 0 to 20396\n",
            "Data columns (total 9 columns):\n",
            " #   Column         Non-Null Count  Dtype  \n",
            "---  ------         --------------  -----  \n",
            " 0   Operator_name  20397 non-null  object \n",
            " 1   date           20397 non-null  object \n",
            " 2   id             20397 non-null  float64\n",
            " 3   followers      20397 non-null  float64\n",
            " 4   user_name      20397 non-null  object \n",
            " 5   org_name       20397 non-null  object \n",
            " 6   tweets         20397 non-null  object \n",
            " 7   likes          20397 non-null  float64\n",
            " 8   retweets       20397 non-null  float64\n",
            "dtypes: float64(4), object(5)\n",
            "memory usage: 1.4+ MB\n"
          ],
          "name": "stdout"
        }
      ]
    },
    {
      "cell_type": "markdown",
      "metadata": {
        "id": "BMDZkAwxP3fs",
        "colab_type": "text"
      },
      "source": [
        "## Data Preprocessing"
      ]
    },
    {
      "cell_type": "markdown",
      "metadata": {
        "id": "ac5BFZwRP3fu",
        "colab_type": "text"
      },
      "source": [
        "Both cased and uncased version of BERT and tokenizer are available. But the cased version works better."
      ]
    },
    {
      "cell_type": "code",
      "metadata": {
        "id": "CQuNI2NSP3fy",
        "colab_type": "code",
        "colab": {}
      },
      "source": [
        "PRE_TRAINED_MODEL_NAME = 'bert-base-multilingual-cased'\n",
        "#'HooshvareLab/bert-base-parsbert-uncased'"
      ],
      "execution_count": null,
      "outputs": []
    },
    {
      "cell_type": "markdown",
      "metadata": {
        "id": "E_9LpvnpP3gC",
        "colab_type": "text"
      },
      "source": [
        "###  Normal Tokens"
      ]
    },
    {
      "cell_type": "code",
      "metadata": {
        "id": "NXsndkeHP3gF",
        "colab_type": "code",
        "colab": {}
      },
      "source": [
        "## Loading the pretrained tokenizer\n",
        "tokenizer = BertTokenizer.from_pretrained(PRE_TRAINED_MODEL_NAME)"
      ],
      "execution_count": null,
      "outputs": []
    },
    {
      "cell_type": "markdown",
      "metadata": {
        "id": "7NkpRsAjP3gV",
        "colab_type": "text"
      },
      "source": [
        "### Create a PyTorch dataset"
      ]
    },
    {
      "cell_type": "code",
      "metadata": {
        "id": "Mzhh_YhgP3gY",
        "colab_type": "code",
        "colab": {}
      },
      "source": [
        "class GPReviewDataset(Dataset):\n",
        "    def __init__(self, reviews, tokenizer, max_len):\n",
        "        self.reviews = reviews\n",
        "        self.tokenizer = tokenizer\n",
        "        self.max_len = max_len\n",
        "    def __len__(self):\n",
        "        return len(self.reviews)\n",
        "    def __getitem__(self, item):\n",
        "        review = str(self.reviews[item])\n",
        "        encoding = self.tokenizer.encode_plus(\n",
        "                      review,\n",
        "                      add_special_tokens=True,\n",
        "                      max_length=self.max_len,\n",
        "                      return_token_type_ids=False,\n",
        "                      pad_to_max_length=True,\n",
        "                      return_attention_mask=True,\n",
        "                      return_tensors='pt',\n",
        "                        )\n",
        "        return {\n",
        "          'review_text': review,\n",
        "          'input_ids': encoding['input_ids'].flatten(),\n",
        "          'attention_mask': encoding['attention_mask'].flatten(),\n",
        "                }"
      ],
      "execution_count": null,
      "outputs": []
    },
    {
      "cell_type": "code",
      "metadata": {
        "id": "U3qeWlb2P3gt",
        "colab_type": "code",
        "colab": {}
      },
      "source": [
        "MAX_LEN = 75"
      ],
      "execution_count": null,
      "outputs": []
    },
    {
      "cell_type": "markdown",
      "metadata": {
        "id": "yVp9QIAMP3g6",
        "colab_type": "text"
      },
      "source": [
        "### Create data loaders"
      ]
    },
    {
      "cell_type": "code",
      "metadata": {
        "id": "WNm_kHGHP3g_",
        "colab_type": "code",
        "colab": {}
      },
      "source": [
        "def create_data_loader(df, tokenizer, max_len, batch_size):\n",
        "    \n",
        "    ds = GPReviewDataset(reviews=df.tweets.to_numpy(),\n",
        "                         tokenizer=tokenizer,\n",
        "                         max_len=max_len\n",
        "                        )\n",
        "    return DataLoader(ds,\n",
        "                      batch_size=batch_size,\n",
        "                      num_workers=0  ## used for loading the data\n",
        "                     )"
      ],
      "execution_count": null,
      "outputs": []
    },
    {
      "cell_type": "code",
      "metadata": {
        "id": "PAtdQcZoP3hM",
        "colab_type": "code",
        "colab": {}
      },
      "source": [
        "BATCH_SIZE = 16"
      ],
      "execution_count": null,
      "outputs": []
    },
    {
      "cell_type": "markdown",
      "metadata": {
        "id": "9d4f7jLMP3he",
        "colab_type": "text"
      },
      "source": [
        "Creating train,validation and test data"
      ]
    },
    {
      "cell_type": "code",
      "metadata": {
        "id": "jAUuK55iP3hh",
        "colab_type": "code",
        "colab": {}
      },
      "source": [
        "new_data_loader = create_data_loader(df, tokenizer, MAX_LEN, BATCH_SIZE)"
      ],
      "execution_count": null,
      "outputs": []
    },
    {
      "cell_type": "markdown",
      "metadata": {
        "id": "fddjx9UYP3hu",
        "colab_type": "text"
      },
      "source": [
        "### Building Sentiment Classfier"
      ]
    },
    {
      "cell_type": "code",
      "metadata": {
        "id": "S1WfPPMkP3hw",
        "colab_type": "code",
        "colab": {}
      },
      "source": [
        "class SentimentClassifier(nn.Module):\n",
        "    def __init__(self, n_classes):\n",
        "        super(SentimentClassifier, self).__init__()\n",
        "        self.bert = BertModel.from_pretrained(PRE_TRAINED_MODEL_NAME)\n",
        "        self.drop = nn.Dropout(p=0.3)\n",
        "        self.out = nn.Linear(self.bert.config.hidden_size, n_classes)\n",
        "        self.softmax = nn.Softmax(dim=1)\n",
        "        \n",
        "    def forward(self, input_ids, attention_mask):\n",
        "        _, pooled_output = self.bert(input_ids=input_ids,          ## _, => skiping the last hidden state\n",
        "                                     attention_mask=attention_mask\n",
        "                                    )\n",
        "        output = self.drop(pooled_output)  ## getting the output from droput layer \n",
        "        output = self.out(output)          ## applying the ouput layer classifier\n",
        "        return self.softmax(output)        ## returning the output of softmax function"
      ],
      "execution_count": null,
      "outputs": []
    },
    {
      "cell_type": "markdown",
      "metadata": {
        "id": "JiUJaVznP3h9",
        "colab_type": "text"
      },
      "source": [
        "#### Loading the Saved model"
      ]
    },
    {
      "cell_type": "code",
      "metadata": {
        "id": "K2GEiOTDP3iA",
        "colab_type": "code",
        "colab": {}
      },
      "source": [
        "model = SentimentClassifier(3)   ## Number of class to be predicted\n",
        "# model.load_state_dict(torch.load('best_model_state.bin'))\n",
        "# model = model.to(device)"
      ],
      "execution_count": null,
      "outputs": []
    },
    {
      "cell_type": "code",
      "metadata": {
        "id": "yzhRMHbLP3iL",
        "colab_type": "code",
        "colab": {}
      },
      "source": [
        "def get_predictions(model, data_loader):\n",
        "    model = model.eval()\n",
        "    review_texts = []\n",
        "    predictions = []\n",
        "    prediction_probs = []\n",
        "    with torch.no_grad():\n",
        "        for d in data_loader:\n",
        "            texts = d[\"review_text\"]\n",
        "            #input_ids = d[\"input_ids\"].to(device)\n",
        "            input_ids = d[\"input_ids\"]\n",
        "            #attention_mask = d[\"attention_mask\"].to(device)\n",
        "            attention_mask = d[\"attention_mask\"]\n",
        "            #targets = d[\"targets\"].to(device)\n",
        "            outputs = model(input_ids=input_ids,\n",
        "                            attention_mask=attention_mask\n",
        "                           )\n",
        "            _, preds = torch.max(outputs, dim=1)\n",
        "            review_texts.extend(texts)\n",
        "            predictions.extend(preds)\n",
        "            prediction_probs.extend(outputs)  \n",
        "\n",
        "    predictions = torch.stack(predictions).cpu()\n",
        "    prediction_probs = torch.stack(prediction_probs).cpu()\n",
        "    return review_texts, predictions, prediction_probs"
      ],
      "execution_count": null,
      "outputs": []
    },
    {
      "cell_type": "code",
      "metadata": {
        "id": "O8yZEZUWP3iZ",
        "colab_type": "code",
        "colab": {}
      },
      "source": [
        "y_review_texts, y_pred, y_pred_probs = get_predictions(model,new_data_loader)"
      ],
      "execution_count": null,
      "outputs": []
    },
    {
      "cell_type": "markdown",
      "metadata": {
        "id": "jQrZg9m8P3is",
        "colab_type": "text"
      },
      "source": [
        "## Predicting the Raw Text"
      ]
    },
    {
      "cell_type": "code",
      "metadata": {
        "id": "oXf3Ws0XP3iv",
        "colab_type": "code",
        "colab": {}
      },
      "source": [
        "review_text = \"'همراه اول کارش مثل پشس خون مردمو داره میخوره با بسته هاش :)))'\"\n"
      ],
      "execution_count": null,
      "outputs": []
    },
    {
      "cell_type": "code",
      "metadata": {
        "id": "qzclcPKJP3i_",
        "colab_type": "code",
        "colab": {}
      },
      "source": [
        "encoded_review = tokenizer.encode_plus(review_text,\n",
        "                                       max_length=MAX_LEN,\n",
        "                                       add_special_tokens=True,\n",
        "                                       return_token_type_ids=False,\n",
        "                                       pad_to_max_length=True,\n",
        "                                       return_attention_mask=True,\n",
        "                                       return_tensors='pt',\n",
        "                                      )"
      ],
      "execution_count": null,
      "outputs": []
    },
    {
      "cell_type": "code",
      "metadata": {
        "id": "RhfHLgmVP3jJ",
        "colab_type": "code",
        "colab": {},
        "outputId": "d1d0e1e4-73f7-404e-9e1e-d180da4c9a59"
      },
      "source": [
        "#input_ids = encoded_review['input_ids'].to(device)\n",
        "input_ids = encoded_review['input_ids']\n",
        "\n",
        "#attention_mask = encoded_review['attention_mask'].to(device)\n",
        "attention_mask = encoded_review['attention_mask']\n",
        "\n",
        "output = model(input_ids, attention_mask)\n",
        "\n",
        "_, prediction = torch.max(output, dim=1)\n",
        "\n",
        "\n",
        "\n",
        "print(f'Review text: {review_text}')\n",
        "print(f'Sentiment  : {class_names[prediction]}')"
      ],
      "execution_count": null,
      "outputs": [
        {
          "output_type": "stream",
          "text": [
            "Review text: 'همراه اول کارش مثل پشس خون مردمو داره میخوره با بسته هاش :)))'\n",
            "Sentiment  : negative\n"
          ],
          "name": "stdout"
        }
      ]
    },
    {
      "cell_type": "code",
      "metadata": {
        "id": "w8021BeJP3jV",
        "colab_type": "code",
        "colab": {},
        "outputId": "0ea77324-b6bb-4006-c617-972e45b1041e"
      },
      "source": [
        "df.tweets[10]"
      ],
      "execution_count": null,
      "outputs": [
        {
          "output_type": "execute_result",
          "data": {
            "text/plain": [
              "'همراه اول کارش مثل پشس خون مردمو داره میخوره با بسته هاش :)))'"
            ]
          },
          "metadata": {
            "tags": []
          },
          "execution_count": 220
        }
      ]
    },
    {
      "cell_type": "code",
      "metadata": {
        "id": "sFxdQ8NuP3jg",
        "colab_type": "code",
        "colab": {}
      },
      "source": [
        ""
      ],
      "execution_count": null,
      "outputs": []
    },
    {
      "cell_type": "code",
      "metadata": {
        "id": "9Zrmar6wP3jt",
        "colab_type": "code",
        "colab": {}
      },
      "source": [
        ""
      ],
      "execution_count": null,
      "outputs": []
    },
    {
      "cell_type": "code",
      "metadata": {
        "id": "wSdeth1YP3kB",
        "colab_type": "code",
        "colab": {}
      },
      "source": [
        ""
      ],
      "execution_count": null,
      "outputs": []
    },
    {
      "cell_type": "code",
      "metadata": {
        "id": "ofA-7l2eP3kP",
        "colab_type": "code",
        "colab": {}
      },
      "source": [
        ""
      ],
      "execution_count": null,
      "outputs": []
    },
    {
      "cell_type": "code",
      "metadata": {
        "id": "CUs5bfypP3kf",
        "colab_type": "code",
        "colab": {}
      },
      "source": [
        ""
      ],
      "execution_count": null,
      "outputs": []
    },
    {
      "cell_type": "code",
      "metadata": {
        "id": "baTG1GStP3kr",
        "colab_type": "code",
        "colab": {}
      },
      "source": [
        ""
      ],
      "execution_count": null,
      "outputs": []
    },
    {
      "cell_type": "code",
      "metadata": {
        "id": "xPl3oTnEP3k2",
        "colab_type": "code",
        "colab": {}
      },
      "source": [
        ""
      ],
      "execution_count": null,
      "outputs": []
    }
  ]
}
